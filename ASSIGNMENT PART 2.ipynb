{
 "cells": [
  {
   "cell_type": "markdown",
   "id": "020659f2",
   "metadata": {},
   "source": [
    "NAME: BOATENG MINERVA ADDOBEA\n",
    "\n",
    "INDEX NUMBER: 4291620 "
   ]
  },
  {
   "cell_type": "code",
   "execution_count": null,
   "id": "03904c60",
   "metadata": {},
   "outputs": [],
   "source": [
    "import numpy as np\n",
    "import pandas as pd\n",
    "import xarray as xr\n",
    "import matplotlib.pyplot as plt\n",
    "from scipy.stats import norm\n",
    "from sklearn.metrics import mean_absolute_error, mean_squared_error, r2_score\n",
    "from warnings import filterwarnings\n",
    "filterwarnings('ignore')"
   ]
  },
  {
   "cell_type": "code",
   "execution_count": null,
   "id": "b766f230",
   "metadata": {},
   "outputs": [],
   "source": [
    "observations = np.array([15.2, 16.1, 14.5, 15.8, 25.0])\n",
    "model_output = np.array([14.8, 15.5, 14.0, 16.0, 25.3])"
   ]
  },
  {
   "cell_type": "code",
   "execution_count": null,
   "id": "f5b9c5e1",
   "metadata": {},
   "outputs": [],
   "source": [
    "# Calculate error variances\n",
    "R = np.var(observations)\n",
    "Q = np.var(model_output)"
   ]
  },
  {
   "cell_type": "code",
   "execution_count": null,
   "id": "3637d360",
   "metadata": {},
   "outputs": [],
   "source": [
    "# Calculate weights\n",
    "W_O = Q / (R + Q)\n",
    "W_M = R / (R + Q)\n",
    "print(f\"Observation weight (W_O): {W_O}\")\n",
    "print(f\"Model output weight (W_M): {W_M}\")"
   ]
  },
  {
   "cell_type": "code",
   "execution_count": null,
   "id": "be292e63",
   "metadata": {},
   "outputs": [],
   "source": [
    "# Compute analysis fields\n",
    "analysis = W_O * observations + W_M * model_output\n",
    "\n",
    "print(\"Analysis fields:\", analysis"
   ]
  },
  {
   "cell_type": "code",
   "execution_count": null,
   "id": "9f71a518",
   "metadata": {},
   "outputs": [],
   "source": [
    "# Calculate RMSE\n",
    "def calculate_rmse(true_values, predictions):\n",
    "    return np.sqrt(np.mean((true_values - predictions) ** 2))\n",
    "\n",
    "# Calculate Bias\n",
    "def calculate_bias(true_values, predictions):\n",
    "    return np.mean(predictions - true_values)"
   ]
  },
  {
   "cell_type": "code",
   "execution_count": null,
   "id": "f3d0ea5e",
   "metadata": {},
   "outputs": [],
   "source": [
    "# RMSE and Bias for the analysis fields\n",
    "rmse_analysis_obs = calculate_rmse(observations, analysis)\n",
    "bias_analysis_obs = calculate_bias(observations, analysis)\n",
    "\n",
    "rmse_analysis_model = calculate_rmse(model_output, analysis)\n",
    "bias_analysis_model = calculate_bias(model_output, analysis)\n",
    "\n",
    "print(f\"RMSE (Analysis vs Observations): {rmse_analysis_obs}\")\n",
    "print(f\"Bias (Analysis vs Observations): {bias_analysis_obs}\")\n",
    "\n",
    "print(f\"RMSE (Analysis vs Model Output): {rmse_analysis_model}\")\n",
    "print(f\"Bias (Analysis vs Model Output): {bias_analysis_model}\")"
   ]
  },
  {
   "cell_type": "code",
   "execution_count": null,
   "id": "e79eb1b8",
   "metadata": {},
   "outputs": [],
   "source": [
    "# Combined scatter plot\n",
    "plt.figure(figsize=(8, 6))\n",
    "plt.scatter(observations, analysis, color='blue', label='Analysis vs Observations')\n",
    "plt.scatter(model_output, analysis, color='green', label='Analysis vs Model Output')\n",
    "plt.plot([min(min(observations), min(model_output)), max(max(observations), max(model_output))], \n",
    "         [min(min(observations), min(model_output)), max(max(observations), max(model_output))], 'k--')\n",
    "plt.xlabel('Observations / Model Output')\n",
    "plt.ylabel('Analysis')\n",
    "plt.legend()\n",
    "plt.title('Scatter Plot: Analysis vs Observations and Model Output')\n",
    "plt.grid(True)\n",
    "plt.show()\n",
    "\n",
    "# Histogram\n",
    "plt.figure(figsize=(12, 6))\n",
    "plt.hist([observations - analysis, model_output - analysis], label=['Observations - Analysis', 'Model Output - Analysis'], bins=10, alpha=0.7)\n",
    "plt.xlabel('Difference')\n",
    "plt.ylabel('Frequency')\n",
    "plt.legend()\n",
    "plt.title('Histogram of Differences')\n",
    "plt.show()\n",
    "\n",
    "# Time series plot\n",
    "plt.figure(figsize=(12, 6))\n",
    "plt.plot(observations, label='Observations', marker='o')\n",
    "plt.plot(model_output, label='Model Output', marker='x')\n",
    "plt.plot(analysis, label='Analysis', marker='s')\n",
    "plt.xlabel('Time')\n",
    "plt.ylabel('Temperature (°C)')\n",
    "plt.legend()\n",
    "plt.title('Time Series Plot')\n",
    "plt.show()\n"
   ]
  },
  {
   "cell_type": "code",
   "execution_count": null,
   "id": "44df8f47",
   "metadata": {},
   "outputs": [],
   "source": []
  },
  {
   "cell_type": "code",
   "execution_count": null,
   "id": "16a60efa",
   "metadata": {},
   "outputs": [],
   "source": [
    "print(pd.DataFrame(\n",
    "    { \"OBSERVATIONS(°C)\": observations,\n",
    "      \"MODEL OUTPUT(°C)\": model_output,\n",
    "      \"ANALYZED DATA(°C)\": analysis,\n",
    "      \"RMSE\": rmse_analysis_obs,\n",
    "      \"BIAS ERROR\": bias_analysis_obs,\n",
    "    }\n",
    "))"
   ]
  },
  {
   "cell_type": "code",
   "execution_count": null,
   "id": "c3e79d7d",
   "metadata": {},
   "outputs": [],
   "source": []
  }
 ],
 "metadata": {
  "kernelspec": {
   "display_name": "Python 3 (ipykernel)",
   "language": "python",
   "name": "python3"
  },
  "language_info": {
   "codemirror_mode": {
    "name": "ipython",
    "version": 3
   },
   "file_extension": ".py",
   "mimetype": "text/x-python",
   "name": "python",
   "nbconvert_exporter": "python",
   "pygments_lexer": "ipython3",
   "version": "3.11.5"
  }
 },
 "nbformat": 4,
 "nbformat_minor": 5
}
